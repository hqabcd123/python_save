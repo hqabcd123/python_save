{
 "cells": [
  {
   "cell_type": "markdown",
   "metadata": {
    "slideshow": {
     "slide_type": "slide"
    }
   },
   "source": [
    "# 數位信號處理實習\n",
    "\n",
    "# Digital Signal Processing Laboratory\n",
    "\n",
    "- 課程代碼：ET4800301\n",
    "- 開課科系：電子系大三\n",
    "- 上課地點：T2-511、EE-701\n",
    "- 上課時間：2019 Spring T6 T7 T8\n",
    "- 授課教師：曾昭雄 (EE707/chtseng@ieee.org)\n",
    "- 課程助教：杜晏頤 (EE704/)"
   ]
  },
  {
   "cell_type": "markdown",
   "metadata": {
    "slideshow": {
     "slide_type": "slide"
    }
   },
   "source": [
    "# Text Book:\n",
    "\n",
    "### P. Wentworth, J. Elkner, A. B. Downey, and C. Meyers, How to Think Like a Computer Scientist: Learning with Python 3 Documentation, 2018.\n",
    "### [Download] https://media.readthedocs.org/pdf/howtothink/latest/howtothink.pdf\n",
    "\n",
    "### [Project website] http://www.openbookproject.net/thinkcs/python/english2e/\n",
    "\n",
    "\n",
    "# Reference Book:\n",
    "\n",
    "### A. B. Downey, Digital Signal Processing in Python, Green Tea Press, 2014.\n",
    "### http://greenteapress.com/wp/think-dsp/ \n",
    "### J. Unpingco, Python for Signal Processing Featuring IPython Notebooks, Springer, 2014."
   ]
  },
  {
   "cell_type": "markdown",
   "metadata": {
    "slideshow": {
     "slide_type": "slide"
    }
   },
   "source": [
    "# Topics (1):\n",
    "\n",
    "### 2/19 Lab 0 Course introduction\n",
    "### 2/26 Lab 1 Variables, expressions, and statements\n",
    "### 3/5   Lab 2 Program flow\n",
    "### 3/12 Lab 3 Functions (part of Lab 4)\n",
    "### 3/19 Lab 4 Datatypes\n",
    "### 3/26 Lab 5 Numpy, Files and Modules\n",
    "### 4/2 春假 [停課一次]\n",
    "### 4/9 Midterm quiz\n",
    "### 4/16 期中考週 [停課一次]"
   ]
  },
  {
   "cell_type": "markdown",
   "metadata": {
    "slideshow": {
     "slide_type": "slide"
    }
   },
   "source": [
    "# Topics (2):\n",
    "\n",
    "### 4/23 Lab 6 Classes and objects\n",
    "### 4/30 Lab 7 Plotting data with matplotlib (part of Lab 6)\n",
    "### 5/7   Lab 8 Introduction to Fourier transformation\n",
    "### 5/14 Lab 9 FFT with Python\n",
    "### 5/21 Lab 10 Introduction to digital filter\n",
    "### 5/28 Lab 11 MCU programing with Python (1)\n",
    "### 6/4   Lab 12 MCU programing with Python (2)\n",
    "### 6/11 Final quiz \n",
    "### 6/18 期末考週 [停課一次]"
   ]
  },
  {
   "cell_type": "markdown",
   "metadata": {
    "slideshow": {
     "slide_type": "slide"
    }
   },
   "source": [
    "# Grading Policy\n",
    "\n",
    "### 出席 (20％)、每週實驗報告繳交 (40%)、期中、期末上機測驗 (40%)\n",
    "\n",
    "# Handout download and Report Turn in\n",
    "\n",
    "### Moodle system (Please update your email address.)\n",
    "\n",
    "# 未出席課程處理原則\n",
    "### 當次點名成績0分，有事不需要請假。"
   ]
  },
  {
   "cell_type": "markdown",
   "metadata": {
    "slideshow": {
     "slide_type": "slide"
    }
   },
   "source": [
    "# 報告缺交及遲交處理原則\n",
    "### 報告繳交：\n",
    "- (1)實驗課當天(TUE)繳交：90(+-)10 分\n",
    "- (2)遲1天(WED)繳交遲交：80(+-)10 分\n",
    "- (3)遲2天(THU)繳交遲交：70(+-)10 分\n",
    "- (4)遲3~6天(FRI~MON)繳交遲交：60(+-)10 分 [以23:55作為日期劃分時間點]\n",
    "\n",
    "### 報告缺交：\n",
    "- (1)在實驗課隔週一23:55前，未繳交報告者，視為缺繳，0 分。\n",
    "- (2)報告未轉成pdf檔案上傳者，視為缺交。"
   ]
  },
  {
   "cell_type": "markdown",
   "metadata": {
    "slideshow": {
     "slide_type": "slide"
    }
   },
   "source": [
    "# The way of the program\n",
    "\n",
    "## Python programming language\n",
    "\n",
    "### High-level programming language (Python, C++, PHP, C#, Java)\n",
    "\n",
    "### Low-level programming language (machine and assembly languages)\n",
    "\n",
    "\n",
    "## Python Interpreter\n",
    "\n",
    "### immediate mode (immediate responds)\n",
    "### script mode (write a program in a file)"
   ]
  },
  {
   "cell_type": "markdown",
   "metadata": {
    "slideshow": {
     "slide_type": "slide"
    }
   },
   "source": [
    "# What is a program?\n",
    "\n",
    "### A program is a sequence of instructions that speciﬁes how to perform a computation.\n",
    "- input (keyboard, ﬁle, sensor)\n",
    "- output (screen, ﬁle, motor)\n",
    "- math\n",
    "- conditional execution\n",
    "- repetition\n",
    "\n",
    "# What is debugging?\n",
    "\n",
    "### Programming errors are called bugs and the process of tracking them down and correcting them is called debugging.\n",
    "\n",
    "### Syntax errors, Runtime errors, Semantic errors"
   ]
  },
  {
   "cell_type": "markdown",
   "metadata": {
    "slideshow": {
     "slide_type": "subslide"
    }
   },
   "source": [
    "# The ﬁrst program"
   ]
  },
  {
   "cell_type": "code",
   "execution_count": 1,
   "metadata": {
    "slideshow": {
     "slide_type": "fragment"
    }
   },
   "outputs": [
    {
     "name": "stdout",
     "output_type": "stream",
     "text": [
      "Hello, World!\n"
     ]
    }
   ],
   "source": [
    "print(\"Hello, World!\")"
   ]
  },
  {
   "cell_type": "markdown",
   "metadata": {
    "slideshow": {
     "slide_type": "fragment"
    }
   },
   "source": [
    "# In Python, the # token starts a comment."
   ]
  },
  {
   "cell_type": "code",
   "execution_count": 2,
   "metadata": {
    "slideshow": {
     "slide_type": "fragment"
    }
   },
   "outputs": [
    {
     "name": "stdout",
     "output_type": "stream",
     "text": [
      "Hello, World!\n"
     ]
    }
   ],
   "source": [
    "#---------------------------------------------------\n",
    "# In Python, the # token starts a comment.\n",
    "#---------------------------------------------------\n",
    "print(\"Hello, World!\") # It demonstrates the print function."
   ]
  },
  {
   "cell_type": "code",
   "execution_count": null,
   "metadata": {},
   "outputs": [],
   "source": []
  }
 ],
 "metadata": {
  "celltoolbar": "Slideshow",
  "kernelspec": {
   "display_name": "Python 3",
   "language": "python",
   "name": "python3"
  },
  "language_info": {
   "codemirror_mode": {
    "name": "ipython",
    "version": 3
   },
   "file_extension": ".py",
   "mimetype": "text/x-python",
   "name": "python",
   "nbconvert_exporter": "python",
   "pygments_lexer": "ipython3",
   "version": "3.7.1"
  }
 },
 "nbformat": 4,
 "nbformat_minor": 2
}
