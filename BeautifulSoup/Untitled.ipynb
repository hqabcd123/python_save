{
 "cells": [
  {
   "cell_type": "code",
   "execution_count": 5,
   "metadata": {},
   "outputs": [
    {
     "name": "stdout",
     "output_type": "stream",
     "text": [
      "\t1\t2\t3\t4\t5\t6\t7\t8\t9\t10\t11\t12\n",
      "  :-----------------------------------------------------------------------------------------------\n",
      " 1:     1       2       3       4       5       6       7       8       9       10      11      12\n",
      " 2:     2       4       6       8      10      12      14      16      18       20      22      24\n",
      " 3:     3       6       9      12      15      18      21      24      27       30      33      36\n",
      " 4:     4       8      12      16      20      24      28      32      36       40      44      48\n",
      " 5:     5      10      15      20      25      30      35      40      45       50      55      60\n",
      " 6:     6      12      18      24      30      36      42      48      54       60      66      72\n",
      " 7:     7      14      21      28      35      42      49      56      63       70      77      84\n",
      " 8:     8      16      24      32      40      48      56      64      72       80      88      96\n",
      " 9:     9      18      27      36      45      54      63      72      81       90      99     108\n",
      "10:    10      20      30      40      50      60      70      80      90      100     110     120\n",
      "11:    11      22      33      44      55      66      77      88      99      110     121     132\n",
      "12:    12      24      36      48      60      72      84      96     108      120     132     144\n"
     ]
    }
   ],
   "source": [
    "end = 13\n",
    "print(\"\\t1\\t2\\t3\\t4\\t5\\t6\\t7\\t8\\t9\\t10\\t11\\t12\")\n",
    "str = \":-----------------------------------------------------------------------------------------------\"\n",
    "print(\"{:1}\".format(''), str)\n",
    "for i in range(1, end):\n",
    "    print('{:2}:{:>6}{:>8}{:>8}{:>8}{:>8}{:>8}{:>8}{:>8}{:>8}{:>9}{:>8}{:>8}'.format(\n",
    "        i, i*1, i*2, i*3, i*4, i*5, i*6, i*7, i*8, i*9, i*10, i*11, i*12))"
   ]
  },
  {
   "cell_type": "code",
   "execution_count": 4,
   "metadata": {},
   "outputs": [
    {
     "name": "stdout",
     "output_type": "stream",
     "text": [
      "dot_product([[1, 1]], [[1, 1]]) == 2\n",
      "dot_product([[1, 2]], [[1, 4]]) == 9\n",
      "dot_product([[1, 2, 1]], [[1, 4, 3]]) == 12\n"
     ]
    }
   ],
   "source": [
    "def dot_product(list_1, list_2):\n",
    "    sum = 0\n",
    "    size = 0\n",
    "    if (len(list_1) > len(list_2)):\n",
    "        size = len(list_2)\n",
    "    elif (len(list_1) < len(list_2)):\n",
    "        size = len(list_1)\n",
    "    else:\n",
    "        size = len(list_1)\n",
    "    for i in range(size):\n",
    "        sum += list_1[i] * list_2[i]\n",
    "    return sum\n",
    "innep = [[1, 1], [1, 1], [1, 2], [1, 4], [1, 2, 1], [1, 4, 3]]\n",
    "print('dot_product([{}], [{}]) == {}'.format(innep[0], innep[1], dot_product(innep[0], innep[1])))\n",
    "print('dot_product([{}], [{}]) == {}'.format(innep[2], innep[3], dot_product(innep[2], innep[3])))\n",
    "print('dot_product([{}], [{}]) == {}'.format(innep[4], innep[5], dot_product(innep[4], innep[5])))\n"
   ]
  },
  {
   "cell_type": "code",
   "execution_count": 13,
   "metadata": {},
   "outputs": [
    {
     "name": "stdout",
     "output_type": "stream",
     "text": [
      "2\n",
      "nepu\n",
      "2\n"
     ]
    }
   ],
   "source": [
    "dict = {}\n",
    "i = 2\n",
    "str = 'nepu'\n",
    "dict2 = {str:i}\n",
    "dict.update(dict2)\n",
    "dict\n",
    "print(dict[str])\n",
    "for i in dict2:\n",
    "    print(i)\n",
    "    print(dict[i])"
   ]
  },
  {
   "cell_type": "code",
   "execution_count": 8,
   "metadata": {},
   "outputs": [
    {
     "data": {
      "text/plain": [
       "['www.nepuaniki0',\n",
       " 'www.nepuaniki1',\n",
       " 'www.nepuaniki2',\n",
       " 'www.nepuaniki3',\n",
       " 'www.nepuaniki4',\n",
       " 'www.nepuaniki5',\n",
       " 'www.nepuaniki6',\n",
       " 'www.nepuaniki7',\n",
       " 'www.nepuaniki8']"
      ]
     },
     "execution_count": 8,
     "metadata": {},
     "output_type": "execute_result"
    }
   ],
   "source": [
    "base = 'www.nepu'\n",
    "api = 'aniki{}'\n",
    "urls = [base + api.format(i) for i in range(9)]\n",
    "urls"
   ]
  },
  {
   "cell_type": "code",
   "execution_count": null,
   "metadata": {},
   "outputs": [],
   "source": []
  }
 ],
 "metadata": {
  "kernelspec": {
   "display_name": "Python 3",
   "language": "python",
   "name": "python3"
  },
  "language_info": {
   "codemirror_mode": {
    "name": "ipython",
    "version": 3
   },
   "file_extension": ".py",
   "mimetype": "text/x-python",
   "name": "python",
   "nbconvert_exporter": "python",
   "pygments_lexer": "ipython3",
   "version": "3.7.1"
  }
 },
 "nbformat": 4,
 "nbformat_minor": 2
}
