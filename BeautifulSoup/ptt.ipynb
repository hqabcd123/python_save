{
 "cells": [
  {
   "cell_type": "code",
   "execution_count": 2,
   "metadata": {},
   "outputs": [],
   "source": [
    "import requests\n",
    "from bs4 import BeautifulSoup\n",
    "\n",
    "base = 'https://www.ptt.cc'\n",
    "uri = '/bbs/Old-Games/index.html'\n",
    "res = requests.get(base + uri)"
   ]
  },
  {
   "cell_type": "code",
   "execution_count": 3,
   "metadata": {},
   "outputs": [
    {
     "name": "stdout",
     "output_type": "stream",
     "text": [
      "https://www.ptt.cc/bbs/Old-Games/index.html 看板\n",
      "https://www.ptt.cc/man/Old-Games/index.html 精華區\n",
      "https://www.ptt.cc/bbs/Old-Games/index1.html 最舊\n",
      "https://www.ptt.cc/bbs/Old-Games/index1318.html ‹ 上頁\n",
      "/bbs/Old-Games/index1318.html\n",
      "<class 'KeyError'>\n",
      "https://www.ptt.cc/bbs/Old-Games/index.html 最新\n",
      "https://www.ptt.cc/bbs/Old-Games/index.html 看板\n",
      "https://www.ptt.cc/man/Old-Games/index.html 精華區\n",
      "https://www.ptt.cc/bbs/Old-Games/index1.html 最舊\n",
      "https://www.ptt.cc/bbs/Old-Games/index1317.html ‹ 上頁\n",
      "/bbs/Old-Games/index1317.html\n",
      "https://www.ptt.cc/bbs/Old-Games/index1319.html 下頁 ›\n",
      "https://www.ptt.cc/bbs/Old-Games/index.html 最新\n",
      "https://www.ptt.cc/bbs/Old-Games/index.html 看板\n",
      "https://www.ptt.cc/man/Old-Games/index.html 精華區\n",
      "https://www.ptt.cc/bbs/Old-Games/index1.html 最舊\n",
      "https://www.ptt.cc/bbs/Old-Games/index1316.html ‹ 上頁\n",
      "/bbs/Old-Games/index1316.html\n",
      "https://www.ptt.cc/bbs/Old-Games/index1318.html 下頁 ›\n",
      "https://www.ptt.cc/bbs/Old-Games/index.html 最新\n",
      "https://www.ptt.cc/bbs/Old-Games/index.html 看板\n",
      "https://www.ptt.cc/man/Old-Games/index.html 精華區\n",
      "https://www.ptt.cc/bbs/Old-Games/index1.html 最舊\n",
      "https://www.ptt.cc/bbs/Old-Games/index1315.html ‹ 上頁\n",
      "/bbs/Old-Games/index1315.html\n",
      "https://www.ptt.cc/bbs/Old-Games/index1317.html 下頁 ›\n",
      "https://www.ptt.cc/bbs/Old-Games/index.html 最新\n",
      "https://www.ptt.cc/bbs/Old-Games/index.html 看板\n",
      "https://www.ptt.cc/man/Old-Games/index.html 精華區\n",
      "https://www.ptt.cc/bbs/Old-Games/index1.html 最舊\n",
      "https://www.ptt.cc/bbs/Old-Games/index1314.html ‹ 上頁\n",
      "/bbs/Old-Games/index1314.html\n",
      "https://www.ptt.cc/bbs/Old-Games/index1316.html 下頁 ›\n",
      "https://www.ptt.cc/bbs/Old-Games/index.html 最新\n",
      "https://www.ptt.cc/bbs/Old-Games/index.html 看板\n",
      "https://www.ptt.cc/man/Old-Games/index.html 精華區\n",
      "https://www.ptt.cc/bbs/Old-Games/index1.html 最舊\n",
      "https://www.ptt.cc/bbs/Old-Games/index1313.html ‹ 上頁\n",
      "/bbs/Old-Games/index1313.html\n",
      "https://www.ptt.cc/bbs/Old-Games/index1315.html 下頁 ›\n",
      "https://www.ptt.cc/bbs/Old-Games/index.html 最新\n",
      "https://www.ptt.cc/bbs/Old-Games/index.html 看板\n",
      "https://www.ptt.cc/man/Old-Games/index.html 精華區\n",
      "https://www.ptt.cc/bbs/Old-Games/index1.html 最舊\n",
      "https://www.ptt.cc/bbs/Old-Games/index1312.html ‹ 上頁\n",
      "/bbs/Old-Games/index1312.html\n",
      "https://www.ptt.cc/bbs/Old-Games/index1314.html 下頁 ›\n",
      "https://www.ptt.cc/bbs/Old-Games/index.html 最新\n",
      "https://www.ptt.cc/bbs/Old-Games/index.html 看板\n",
      "https://www.ptt.cc/man/Old-Games/index.html 精華區\n",
      "https://www.ptt.cc/bbs/Old-Games/index1.html 最舊\n",
      "https://www.ptt.cc/bbs/Old-Games/index1311.html ‹ 上頁\n",
      "/bbs/Old-Games/index1311.html\n",
      "https://www.ptt.cc/bbs/Old-Games/index1313.html 下頁 ›\n",
      "https://www.ptt.cc/bbs/Old-Games/index.html 最新\n",
      "https://www.ptt.cc/bbs/Old-Games/index.html 看板\n",
      "https://www.ptt.cc/man/Old-Games/index.html 精華區\n",
      "https://www.ptt.cc/bbs/Old-Games/index1.html 最舊\n",
      "https://www.ptt.cc/bbs/Old-Games/index1310.html ‹ 上頁\n",
      "/bbs/Old-Games/index1310.html\n",
      "https://www.ptt.cc/bbs/Old-Games/index1312.html 下頁 ›\n",
      "https://www.ptt.cc/bbs/Old-Games/index.html 最新\n",
      "https://www.ptt.cc/bbs/Old-Games/index.html 看板\n",
      "https://www.ptt.cc/man/Old-Games/index.html 精華區\n",
      "https://www.ptt.cc/bbs/Old-Games/index1.html 最舊\n",
      "https://www.ptt.cc/bbs/Old-Games/index1309.html ‹ 上頁\n",
      "/bbs/Old-Games/index1309.html\n",
      "https://www.ptt.cc/bbs/Old-Games/index1311.html 下頁 ›\n",
      "https://www.ptt.cc/bbs/Old-Games/index.html 最新\n"
     ]
    }
   ],
   "source": [
    "front_page = '/bbs/Old-Games/index.html'\n",
    "k = 0\n",
    "while(k<10):\n",
    "    res = requests.get(base + front_page)\n",
    "    soup = BeautifulSoup(res.text)\n",
    "    for i in soup.select('.action-bar a'):\n",
    "        try:\n",
    "            print(base + i['href'], i.text)\n",
    "            if i.text.find('上頁') != -1:\n",
    "                front_page = i['href']\n",
    "                print(front_page)\n",
    "        except KeyError:\n",
    "            print(KeyError)\n",
    "    tag = ['看板', '時間']\n",
    "#     for str in soup.select(\".title a\"):\n",
    "#         #print(base + str['href'], str.text)\n",
    "#         inside_soup = BeautifulSoup(requests.get(base + str['href']).text)\n",
    "#         for i in inside_soup.select('#main-content'):\n",
    "#             print(i.text)\n",
    "#             for j in range(len(i.select('.article-meta-tag'))):\n",
    "#                 if i.select('.article-meta-tag')[j].text not in tag:\n",
    "#                     print(i.select('.article-meta-tag')[j].text, i.select('.article-meta-value')[j].text)\n",
    "    k = k + 1"
   ]
  },
  {
   "cell_type": "code",
   "execution_count": null,
   "metadata": {},
   "outputs": [],
   "source": []
  },
  {
   "cell_type": "code",
   "execution_count": null,
   "metadata": {},
   "outputs": [],
   "source": []
  },
  {
   "cell_type": "code",
   "execution_count": null,
   "metadata": {},
   "outputs": [],
   "source": []
  }
 ],
 "metadata": {
  "kernelspec": {
   "display_name": "Python 3",
   "language": "python",
   "name": "python3"
  },
  "language_info": {
   "codemirror_mode": {
    "name": "ipython",
    "version": 3
   },
   "file_extension": ".py",
   "mimetype": "text/x-python",
   "name": "python",
   "nbconvert_exporter": "python",
   "pygments_lexer": "ipython3",
   "version": "3.7.1"
  }
 },
 "nbformat": 4,
 "nbformat_minor": 2
}
