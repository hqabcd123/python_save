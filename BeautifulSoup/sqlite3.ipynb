{
 "cells": [
  {
   "cell_type": "code",
   "execution_count": 1,
   "metadata": {},
   "outputs": [],
   "source": [
    "import sqlite3 as lite\n",
    "import requests\n",
    "import json\n",
    "\n",
    "conn = lite.connect(':memory:')\n",
    "cursor = conn.cursor()\n",
    "# cursor.execute('''CREATE TABLE NEPU\n",
    "# (quote_post_id text, thread_id text, user_nickname text, post_id text, msg text)''')\n",
    "# conn.commit()"
   ]
  },
  {
   "cell_type": "code",
   "execution_count": 2,
   "metadata": {},
   "outputs": [
    {
     "name": "stdout",
     "output_type": "stream",
     "text": [
      "create table aniki suscess\n",
      "create table nepu suscess\n",
      "create table waifu suscess\n",
      "create table aaaaaa suscess\n"
     ]
    }
   ],
   "source": [
    "names = ['aniki', 'nepu', 'waifu', 'aaaaaa']\n",
    "for name in names:\n",
    "    cursor.execute('''CREATE TABLE {} \n",
    "    (price integer)'''.format(name))\n",
    "    print('create table {} suscess'.format(name))\n",
    "conn.commit()"
   ]
  },
  {
   "cell_type": "code",
   "execution_count": 3,
   "metadata": {},
   "outputs": [
    {
     "name": "stdout",
     "output_type": "stream",
     "text": [
      "inserted 125 into aniki\n",
      "inserted 246 into nepu\n",
      "inserted 749 into waifu\n",
      "inserted 154 into aaaaaa\n"
     ]
    }
   ],
   "source": [
    "prices = [125, 246, 749, 154]\n",
    "for i in range(len(prices)):\n",
    "    cursor.execute(\"INSERT INTO {} VALUES(?)\".format(names[i]), (prices[i],))\n",
    "    print('inserted {} into {}'.format(prices[i], names[i]))\n",
    "conn.commit()"
   ]
  },
  {
   "cell_type": "code",
   "execution_count": 5,
   "metadata": {},
   "outputs": [
    {
     "name": "stdout",
     "output_type": "stream",
     "text": [
      "(125,)\n",
      "(246,)\n",
      "(749,)\n",
      "(154,)\n"
     ]
    }
   ],
   "source": [
    "li = []\n",
    "for name in names:\n",
    "    for row in cursor.execute(\"SELECT * FROM {}\".format(name)):\n",
    "        li.append(list(row))\n",
    "        print(row)\n",
    "conn.commit()"
   ]
  },
  {
   "cell_type": "code",
   "execution_count": 6,
   "metadata": {},
   "outputs": [
    {
     "data": {
      "text/plain": [
       "[[125], [246], [749], [154]]"
      ]
     },
     "execution_count": 6,
     "metadata": {},
     "output_type": "execute_result"
    }
   ],
   "source": [
    "li# = list(li)"
   ]
  },
  {
   "cell_type": "code",
   "execution_count": 1,
   "metadata": {},
   "outputs": [
    {
     "data": {
      "text/plain": [
       "'?,?,?,?'"
      ]
     },
     "execution_count": 1,
     "metadata": {},
     "output_type": "execute_result"
    }
   ],
   "source": [
    "text = ','.join(4 * '?')\n",
    "text"
   ]
  },
  {
   "cell_type": "code",
   "execution_count": 2,
   "metadata": {},
   "outputs": [],
   "source": [
    "res = requests.get('https://lihkg.com/api_v2/thread/1117179/page/1?order=reply_time')\n",
    "datas = json.loads(res.text)\n",
    "for data in datas['response']['item_data']:\n",
    "    cursor.execute(\"INSERT INTO {} VALUES(?, ?, ?, ?, ?)\".format('NEPU'), (\n",
    "        data['quote_post_id'], data['thread_id'], data['user_nickname'], data['post_id'], data['msg'].replace('<br />', '')))\n",
    "conn.commit()"
   ]
  },
  {
   "cell_type": "code",
   "execution_count": 3,
   "metadata": {},
   "outputs": [
    {
     "data": {
      "text/plain": [
       "[{'post_id': 'f713658e11201144208073a45445d045ca07e5c6',\n",
       "  'quote_post_id': '',\n",
       "  'thread_id': '1117179',\n",
       "  'user_nickname': '周珉金彩元惠姜',\n",
       "  'user_gender': 'M',\n",
       "  'like_count': '0',\n",
       "  'dislike_count': '0',\n",
       "  'vote_score': '0',\n",
       "  'no_of_quote': '0',\n",
       "  'status': '1',\n",
       "  'reply_time': 1555766643,\n",
       "  'msg_num': '1',\n",
       "  'msg': '<img src=\"/assets/faces/normal/cry.gif\" class=\"hkgmoji\" />首先一間屋6個人 黑櫻勢力都幾大<br />\\n牙包 ( 日本妹 , 為左將來返AKB後路一定順和牙宮)<br />\\n牙奈 ( 日本妹 , 大家都HKT ,同一條水 同聲同氣)<br />\\n牙演 ( PD48已經同牙宮FD到仆街 一定撐牙宮) <br />\\n柔理 ( 應該係最識做人 附和下阿宮 又安慰下牙英)<br />\\n諗到牙英(14碎)係一間屋入面 比黑櫻恰 已經想像到四條友恰鳩牙英妹 <br />\\n真係好慘<img src=\"/assets/faces/normal/frown.gif\" class=\"hkgmoji\" />',\n",
       "  'user': {'user_id': '43061',\n",
       "   'nickname': '周珉金彩元惠姜',\n",
       "   'level': '10',\n",
       "   'gender': 'M',\n",
       "   'status': '1',\n",
       "   'create_time': 1480433696,\n",
       "   'level_name': '普通會員',\n",
       "   'is_following': False,\n",
       "   'is_blocked': False,\n",
       "   'is_disappear': False},\n",
       "  'page': 1},\n",
       " {'post_id': 'fd1f830525315911a60f310759193a6f61aabcb9',\n",
       "  'quote_post_id': '',\n",
       "  'thread_id': '1117179',\n",
       "  'user_nickname': '周珉金彩元惠姜',\n",
       "  'user_gender': 'M',\n",
       "  'like_count': '5',\n",
       "  'dislike_count': '2',\n",
       "  'vote_score': '3',\n",
       "  'no_of_quote': '0',\n",
       "  'status': '1',\n",
       "  'reply_time': 1555766698,\n",
       "  'msg_num': '2',\n",
       "  'msg': '諗起佢4條友用日文細聲講 大聲笑黎搞鳩英妹 好心痛<img src=\"/assets/faces/dog/cry.gif\" class=\"hkgmoji\" />',\n",
       "  'user': {'user_id': '43061',\n",
       "   'nickname': '周珉金彩元惠姜',\n",
       "   'level': '10',\n",
       "   'gender': 'M',\n",
       "   'status': '1',\n",
       "   'create_time': 1480433696,\n",
       "   'level_name': '普通會員',\n",
       "   'is_following': False,\n",
       "   'is_blocked': False,\n",
       "   'is_disappear': False},\n",
       "  'page': 1},\n",
       " {'post_id': 'ffc67f4f1da292c6c2cbef31ea65a13b7c4ed153',\n",
       "  'quote_post_id': '',\n",
       "  'thread_id': '1117179',\n",
       "  'user_nickname': '勝利（已失敗）',\n",
       "  'user_gender': 'M',\n",
       "  'like_count': '2',\n",
       "  'dislike_count': '2',\n",
       "  'vote_score': '0',\n",
       "  'no_of_quote': '1',\n",
       "  'status': '1',\n",
       "  'reply_time': 1555766711,\n",
       "  'msg_num': '3',\n",
       "  'msg': '實唔想返 佢長期喺我到瞓',\n",
       "  'user': {'user_id': '143093',\n",
       "   'nickname': '勝利（已失敗）',\n",
       "   'level': '10',\n",
       "   'gender': 'M',\n",
       "   'status': '1',\n",
       "   'create_time': 1504363221,\n",
       "   'level_name': '普通會員',\n",
       "   'is_following': False,\n",
       "   'is_blocked': False,\n",
       "   'is_disappear': False},\n",
       "  'page': 1},\n",
       " {'post_id': 'ae0c4464d66e61ba1fd6a7db78b26198443b16ef',\n",
       "  'quote_post_id': 'ffc67f4f1da292c6c2cbef31ea65a13b7c4ed153',\n",
       "  'thread_id': '1117179',\n",
       "  'user_nickname': '周珉金彩元惠姜',\n",
       "  'user_gender': 'M',\n",
       "  'like_count': '3',\n",
       "  'dislike_count': '1',\n",
       "  'vote_score': '2',\n",
       "  'no_of_quote': '1',\n",
       "  'status': '1',\n",
       "  'reply_time': 1555766764,\n",
       "  'msg_num': '4',\n",
       "  'msg': '躝啦 唔接受BLINK入黎討論',\n",
       "  'user': {'user_id': '43061',\n",
       "   'nickname': '周珉金彩元惠姜',\n",
       "   'level': '10',\n",
       "   'gender': 'M',\n",
       "   'status': '1',\n",
       "   'create_time': 1480433696,\n",
       "   'level_name': '普通會員',\n",
       "   'is_following': False,\n",
       "   'is_blocked': False,\n",
       "   'is_disappear': False},\n",
       "  'page': 1,\n",
       "  'quote': {'post_id': 'ffc67f4f1da292c6c2cbef31ea65a13b7c4ed153',\n",
       "   'quote_post_id': '',\n",
       "   'thread_id': '1117179',\n",
       "   'user_nickname': '勝利（已失敗）',\n",
       "   'user_gender': 'M',\n",
       "   'like_count': '2',\n",
       "   'dislike_count': '2',\n",
       "   'vote_score': '0',\n",
       "   'no_of_quote': '1',\n",
       "   'status': '1',\n",
       "   'reply_time': 1555766711,\n",
       "   'msg_num': '3',\n",
       "   'msg': '實唔想返 佢長期喺我到瞓',\n",
       "   'user': {'user_id': '143093',\n",
       "    'nickname': '勝利（已失敗）',\n",
       "    'level': '10',\n",
       "    'gender': 'M',\n",
       "    'status': '1',\n",
       "    'create_time': 1504363221,\n",
       "    'level_name': '普通會員',\n",
       "    'is_following': False,\n",
       "    'is_blocked': False,\n",
       "    'is_disappear': False},\n",
       "   'page': 1}},\n",
       " {'post_id': 'da08e1bc26925b3429f0b6e1581455e37db964f1',\n",
       "  'quote_post_id': 'ae0c4464d66e61ba1fd6a7db78b26198443b16ef',\n",
       "  'thread_id': '1117179',\n",
       "  'user_nickname': '勝利（已失敗）',\n",
       "  'user_gender': 'M',\n",
       "  'like_count': '0',\n",
       "  'dislike_count': '3',\n",
       "  'vote_score': '-3',\n",
       "  'no_of_quote': '0',\n",
       "  'status': '1',\n",
       "  'reply_time': 1555766954,\n",
       "  'msg_num': '5',\n",
       "  'msg': '都話咗我reveluv嚟<img src=\"/assets/faces/normal/clown.gif\" class=\"hkgmoji\" />',\n",
       "  'user': {'user_id': '143093',\n",
       "   'nickname': '勝利（已失敗）',\n",
       "   'level': '10',\n",
       "   'gender': 'M',\n",
       "   'status': '1',\n",
       "   'create_time': 1504363221,\n",
       "   'level_name': '普通會員',\n",
       "   'is_following': False,\n",
       "   'is_blocked': False,\n",
       "   'is_disappear': False},\n",
       "  'page': 1,\n",
       "  'quote': {'post_id': 'ae0c4464d66e61ba1fd6a7db78b26198443b16ef',\n",
       "   'quote_post_id': 'ffc67f4f1da292c6c2cbef31ea65a13b7c4ed153',\n",
       "   'thread_id': '1117179',\n",
       "   'user_nickname': '周珉金彩元惠姜',\n",
       "   'user_gender': 'M',\n",
       "   'like_count': '3',\n",
       "   'dislike_count': '1',\n",
       "   'vote_score': '2',\n",
       "   'no_of_quote': '1',\n",
       "   'status': '1',\n",
       "   'reply_time': 1555766764,\n",
       "   'msg_num': '4',\n",
       "   'msg': '躝啦 唔接受BLINK入黎討論',\n",
       "   'user': {'user_id': '43061',\n",
       "    'nickname': '周珉金彩元惠姜',\n",
       "    'level': '10',\n",
       "    'gender': 'M',\n",
       "    'status': '1',\n",
       "    'create_time': 1480433696,\n",
       "    'level_name': '普通會員',\n",
       "    'is_following': False,\n",
       "    'is_blocked': False,\n",
       "    'is_disappear': False},\n",
       "   'page': 1,\n",
       "   'quote': {'post_id': 'ffc67f4f1da292c6c2cbef31ea65a13b7c4ed153',\n",
       "    'quote_post_id': '',\n",
       "    'thread_id': '1117179',\n",
       "    'user_nickname': '勝利（已失敗）',\n",
       "    'user_gender': 'M',\n",
       "    'like_count': '2',\n",
       "    'dislike_count': '2',\n",
       "    'vote_score': '0',\n",
       "    'no_of_quote': '1',\n",
       "    'status': '1',\n",
       "    'reply_time': 1555766711,\n",
       "    'msg_num': '3',\n",
       "    'msg': '實唔想返 佢長期喺我到瞓',\n",
       "    'user': {'user_id': '143093',\n",
       "     'nickname': '勝利（已失敗）',\n",
       "     'level': '10',\n",
       "     'gender': 'M',\n",
       "     'status': '1',\n",
       "     'create_time': 1504363221,\n",
       "     'level_name': '普通會員',\n",
       "     'is_following': False,\n",
       "     'is_blocked': False,\n",
       "     'is_disappear': False},\n",
       "    'page': 1}}}]"
      ]
     },
     "execution_count": 3,
     "metadata": {},
     "output_type": "execute_result"
    }
   ],
   "source": [
    "datas['response']['item_data']"
   ]
  },
  {
   "cell_type": "code",
   "execution_count": 10,
   "metadata": {},
   "outputs": [
    {
     "name": "stdout",
     "output_type": "stream",
     "text": [
      "周珉金彩元惠姜 :  <img src=\"/assets/faces/normal/cry.gif\" class=\"hkgmoji\" />首先一間屋6個人 黑櫻勢力都幾大\n",
      "牙包 ( 日本妹 , 為左將來返AKB後路一定順和牙宮)\n",
      "牙奈 ( 日本妹 , 大家都HKT ,同一條水 同聲同氣)\n",
      "牙演 ( PD48已經同牙宮FD到仆街 一定撐牙宮) \n",
      "柔理 ( 應該係最識做人 附和下阿宮 又安慰下牙英)\n",
      "諗到牙英(14碎)係一間屋入面 比黑櫻恰 已經想像到四條友恰鳩牙英妹 \n",
      "真係好慘<img src=\"/assets/faces/normal/frown.gif\" class=\"hkgmoji\" />\n",
      "周珉金彩元惠姜 :  諗起佢4條友用日文細聲講 大聲笑黎搞鳩英妹 好心痛<img src=\"/assets/faces/dog/cry.gif\" class=\"hkgmoji\" />\n",
      "勝利（已失敗） :  實唔想返 佢長期喺我到瞓\n",
      "周珉金彩元惠姜 :  躝啦 唔接受BLINK入黎討論\n",
      "勝利（已失敗） :  都話咗我reveluv嚟<img src=\"/assets/faces/normal/clown.gif\" class=\"hkgmoji\" />\n",
      "**************************************\n",
      "('<img src=\"/assets/faces/normal/cry.gif\" class=\"hkgmoji\" />首先一間屋6個人 黑櫻勢力都幾大\\n牙包 ( 日本妹 , 為左將來返AKB後路一定順和牙宮)\\n牙奈 ( 日本妹 , 大家都HKT ,同一條水 同聲同氣)\\n牙演 ( PD48已經同牙宮FD到仆街 一定撐牙宮) \\n柔理 ( 應該係最識做人 附和下阿宮 又安慰下牙英)\\n諗到牙英(14碎)係一間屋入面 比黑櫻恰 已經想像到四條友恰鳩牙英妹 \\n真係好慘<img src=\"/assets/faces/normal/frown.gif\" class=\"hkgmoji\" />',)\n",
      "('諗起佢4條友用日文細聲講 大聲笑黎搞鳩英妹 好心痛<img src=\"/assets/faces/dog/cry.gif\" class=\"hkgmoji\" />',)\n",
      "('實唔想返 佢長期喺我到瞓',)\n",
      "('躝啦 唔接受BLINK入黎討論',)\n",
      "('都話咗我reveluv嚟<img src=\"/assets/faces/normal/clown.gif\" class=\"hkgmoji\" />',)\n"
     ]
    }
   ],
   "source": [
    "for row in cursor.execute(\"SELECT * FROM NEPU\"):\n",
    "    print(row[2], ': ', row[4])\n",
    "print('**************************************')\n",
    "for row in cursor.execute(\"SELECT msg FROM NEPU\"):\n",
    "    print(row)"
   ]
  },
  {
   "cell_type": "code",
   "execution_count": 11,
   "metadata": {},
   "outputs": [],
   "source": [
    "conn.close()"
   ]
  },
  {
   "cell_type": "code",
   "execution_count": null,
   "metadata": {},
   "outputs": [],
   "source": []
  }
 ],
 "metadata": {
  "kernelspec": {
   "display_name": "Python 3",
   "language": "python",
   "name": "python3"
  },
  "language_info": {
   "codemirror_mode": {
    "name": "ipython",
    "version": 3
   },
   "file_extension": ".py",
   "mimetype": "text/x-python",
   "name": "python",
   "nbconvert_exporter": "python",
   "pygments_lexer": "ipython3",
   "version": "3.7.1"
  }
 },
 "nbformat": 4,
 "nbformat_minor": 2
}
