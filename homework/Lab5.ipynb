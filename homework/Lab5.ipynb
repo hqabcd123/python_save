{
 "cells": [
  {
   "cell_type": "markdown",
   "metadata": {
    "slideshow": {
     "slide_type": "slide"
    }
   },
   "source": [
    "### 數位信號處理實習\n",
    "### Digital Signal Processing Laboratory\n",
    "\n",
    "\n",
    "\n",
    "# Lab 5 Numpy, Files, and Modules"
   ]
  },
  {
   "cell_type": "markdown",
   "metadata": {
    "slideshow": {
     "slide_type": "slide"
    }
   },
   "source": [
    "### The standard Python data types are not very suited for mathematical operations."
   ]
  },
  {
   "cell_type": "code",
   "execution_count": 2,
   "metadata": {
    "slideshow": {
     "slide_type": "fragment"
    }
   },
   "outputs": [
    {
     "data": {
      "text/plain": [
       "[2, 3, 8, 2, 3, 8]"
      ]
     },
     "execution_count": 2,
     "metadata": {},
     "output_type": "execute_result"
    }
   ],
   "source": [
    "a = [2, 3, 8]\n",
    "2 * a"
   ]
  },
  {
   "cell_type": "code",
   "execution_count": 3,
   "metadata": {
    "slideshow": {
     "slide_type": "fragment"
    }
   },
   "outputs": [
    {
     "ename": "TypeError",
     "evalue": "can't multiply sequence by non-int of type 'float'",
     "output_type": "error",
     "traceback": [
      "\u001b[1;31m---------------------------------------------------------------------------\u001b[0m",
      "\u001b[1;31mTypeError\u001b[0m                                 Traceback (most recent call last)",
      "\u001b[1;32m<ipython-input-3-f0aeda31a8b2>\u001b[0m in \u001b[0;36m<module>\u001b[1;34m()\u001b[0m\n\u001b[0;32m      1\u001b[0m \u001b[0ma\u001b[0m \u001b[1;33m=\u001b[0m \u001b[1;33m[\u001b[0m\u001b[1;36m2\u001b[0m\u001b[1;33m,\u001b[0m \u001b[1;36m3\u001b[0m\u001b[1;33m,\u001b[0m \u001b[1;36m8\u001b[0m\u001b[1;33m]\u001b[0m\u001b[1;33m\u001b[0m\u001b[0m\n\u001b[1;32m----> 2\u001b[1;33m \u001b[1;36m2.1\u001b[0m \u001b[1;33m*\u001b[0m \u001b[0ma\u001b[0m\u001b[1;33m\u001b[0m\u001b[0m\n\u001b[0m",
      "\u001b[1;31mTypeError\u001b[0m: can't multiply sequence by non-int of type 'float'"
     ]
    }
   ],
   "source": [
    "a = [2, 3, 8]\n",
    "2.1 * a"
   ]
  },
  {
   "cell_type": "markdown",
   "metadata": {
    "slideshow": {
     "slide_type": "slide"
    }
   },
   "source": [
    "### In order to solve this using Python lists, we would have to do something like:"
   ]
  },
  {
   "cell_type": "code",
   "execution_count": 1,
   "metadata": {
    "slideshow": {
     "slide_type": "fragment"
    }
   },
   "outputs": [],
   "source": [
    "values = [2, 3, 8]\n",
    "result = []\n",
    "for x in values:\n",
    "    result.append(2.1 * x)"
   ]
  },
  {
   "cell_type": "markdown",
   "metadata": {
    "slideshow": {
     "slide_type": "fragment"
    }
   },
   "source": [
    "### This is because Python list’s are not designed as mathematical objects.\n",
    "### Rather, they are purely a collection of items.\n",
    "### In order to get a type of list which behaves like a mathematical array or matrix, we use \"Numpy\"."
   ]
  },
  {
   "cell_type": "code",
   "execution_count": 5,
   "metadata": {
    "slideshow": {
     "slide_type": "slide"
    }
   },
   "outputs": [
    {
     "data": {
      "text/plain": [
       "array([ 4.2,  6.3, 16.8])"
      ]
     },
     "execution_count": 5,
     "metadata": {},
     "output_type": "execute_result"
    }
   ],
   "source": [
    "import numpy as np\n",
    "a = np.array([2, 3, 8])\n",
    "2.1 * a"
   ]
  },
  {
   "cell_type": "markdown",
   "metadata": {
    "slideshow": {
     "slide_type": "fragment"
    }
   },
   "source": [
    "### We abbreviated numpy to np, this is conventional.\n",
    "###  np.array takes a Python list as argument.\n",
    "### The list [2, 3, 8] contains int’s, yet the result contains float’s. This means numpy changed the data type automatically for us."
   ]
  },
  {
   "cell_type": "code",
   "execution_count": 6,
   "metadata": {
    "slideshow": {
     "slide_type": "slide"
    }
   },
   "outputs": [
    {
     "data": {
      "text/plain": [
       "array([ 4,  9, 64])"
      ]
     },
     "execution_count": 6,
     "metadata": {},
     "output_type": "execute_result"
    }
   ],
   "source": [
    "import numpy as np\n",
    "a = np.array([2, 3, 8])\n",
    "a * a"
   ]
  },
  {
   "cell_type": "code",
   "execution_count": 7,
   "metadata": {
    "slideshow": {
     "slide_type": "fragment"
    }
   },
   "outputs": [
    {
     "data": {
      "text/plain": [
       "array([ 4,  9, 64], dtype=int32)"
      ]
     },
     "execution_count": 7,
     "metadata": {},
     "output_type": "execute_result"
    }
   ],
   "source": [
    "a**2"
   ]
  },
  {
   "cell_type": "markdown",
   "metadata": {
    "slideshow": {
     "slide_type": "fragment"
    }
   },
   "source": [
    "### This has nicely squared the array element-wise.\n",
    "### numpy arrays are not vectors in the algebraic sense. Arithmetic operations between arrays are performed element-wise, not on the arrays as a whole."
   ]
  },
  {
   "cell_type": "markdown",
   "metadata": {
    "slideshow": {
     "slide_type": "slide"
    }
   },
   "source": [
    "### To tell numpy we want the dot product we simply use the np.dot function:"
   ]
  },
  {
   "cell_type": "code",
   "execution_count": 8,
   "metadata": {
    "slideshow": {
     "slide_type": "fragment"
    }
   },
   "outputs": [
    {
     "data": {
      "text/plain": [
       "77"
      ]
     },
     "execution_count": 8,
     "metadata": {},
     "output_type": "execute_result"
    }
   ],
   "source": [
    "a = np.array([2, 3, 8])\n",
    "np.dot(a,a)"
   ]
  },
  {
   "cell_type": "markdown",
   "metadata": {
    "slideshow": {
     "slide_type": "fragment"
    }
   },
   "source": [
    "### Furthermore, if you pass 2D arrays to np.dot it will behave like matrix multiplication. \n",
    "### Several other similar NumPy algebraic functions are available (like np.cross, np.outer, etc.)\n",
    "### Bottom line: when you want to treat numpy array operations as vector or matrix operations, make use of the specialized functions to this end."
   ]
  },
  {
   "cell_type": "markdown",
   "metadata": {
    "slideshow": {
     "slide_type": "slide"
    }
   },
   "source": [
    "# 5-1 Shape\n",
    "\n",
    "### One of the most important properties an array is its shape.\n",
    "###  Images for example, consist of a 2D array of pixels.\n",
    "### But in color images every pixel is an RGB tuple: the intensity in red, green and blue.\n",
    "### This makes a color image 3D overall."
   ]
  },
  {
   "cell_type": "code",
   "execution_count": 9,
   "metadata": {
    "slideshow": {
     "slide_type": "fragment"
    }
   },
   "outputs": [
    {
     "data": {
      "text/plain": [
       "(3,)"
      ]
     },
     "execution_count": 9,
     "metadata": {},
     "output_type": "execute_result"
    }
   ],
   "source": [
    "import numpy as np\n",
    "a = np.array([2, 3, 8])\n",
    "a.shape"
   ]
  },
  {
   "cell_type": "code",
   "execution_count": 11,
   "metadata": {
    "slideshow": {
     "slide_type": "fragment"
    }
   },
   "outputs": [
    {
     "data": {
      "text/plain": [
       "(2, 3)"
      ]
     },
     "execution_count": 11,
     "metadata": {},
     "output_type": "execute_result"
    }
   ],
   "source": [
    "b = np.array([\n",
    "[2, 3, 8],\n",
    "[4, 5, 6],\n",
    "])\n",
    "b.shape"
   ]
  },
  {
   "cell_type": "markdown",
   "metadata": {
    "slideshow": {
     "slide_type": "slide"
    }
   },
   "source": [
    "# 5-2 Slicing\n",
    "\n",
    "### Just like with lists, we might want to select certain values from an array."
   ]
  },
  {
   "cell_type": "code",
   "execution_count": 12,
   "metadata": {
    "slideshow": {
     "slide_type": "fragment"
    }
   },
   "outputs": [
    {
     "data": {
      "text/plain": [
       "8"
      ]
     },
     "execution_count": 12,
     "metadata": {},
     "output_type": "execute_result"
    }
   ],
   "source": [
    "a = np.array([2, 3, 8])\n",
    "a[2]"
   ]
  },
  {
   "cell_type": "code",
   "execution_count": 13,
   "metadata": {
    "slideshow": {
     "slide_type": "fragment"
    }
   },
   "outputs": [
    {
     "data": {
      "text/plain": [
       "array([3, 8])"
      ]
     },
     "execution_count": 13,
     "metadata": {},
     "output_type": "execute_result"
    }
   ],
   "source": [
    "a[1:]"
   ]
  },
  {
   "cell_type": "code",
   "execution_count": 14,
   "metadata": {
    "slideshow": {
     "slide_type": "slide"
    }
   },
   "outputs": [],
   "source": [
    "b = np.array([\n",
    "[2, 3, 8],\n",
    "[4, 5, 6],\n",
    "])"
   ]
  },
  {
   "cell_type": "code",
   "execution_count": 15,
   "metadata": {
    "slideshow": {
     "slide_type": "fragment"
    }
   },
   "outputs": [
    {
     "data": {
      "text/plain": [
       "array([4, 5, 6])"
      ]
     },
     "execution_count": 15,
     "metadata": {},
     "output_type": "execute_result"
    }
   ],
   "source": [
    "b[1]"
   ]
  },
  {
   "cell_type": "code",
   "execution_count": 16,
   "metadata": {
    "slideshow": {
     "slide_type": "fragment"
    }
   },
   "outputs": [
    {
     "data": {
      "text/plain": [
       "6"
      ]
     },
     "execution_count": 16,
     "metadata": {},
     "output_type": "execute_result"
    }
   ],
   "source": [
    "b[1][2]"
   ]
  },
  {
   "cell_type": "markdown",
   "metadata": {
    "slideshow": {
     "slide_type": "fragment"
    }
   },
   "source": [
    "###  using b[1] returns the 1th row along the ﬁrst dimenion, which is still an array.\n",
    "### After that, we can select individual items from that."
   ]
  },
  {
   "cell_type": "markdown",
   "metadata": {
    "slideshow": {
     "slide_type": "slide"
    }
   },
   "source": [
    "### This can be abbreviated to:"
   ]
  },
  {
   "cell_type": "code",
   "execution_count": 17,
   "metadata": {
    "slideshow": {
     "slide_type": "fragment"
    }
   },
   "outputs": [
    {
     "data": {
      "text/plain": [
       "6"
      ]
     },
     "execution_count": 17,
     "metadata": {},
     "output_type": "execute_result"
    }
   ],
   "source": [
    "b[1, 2]"
   ]
  },
  {
   "cell_type": "markdown",
   "metadata": {
    "slideshow": {
     "slide_type": "fragment"
    }
   },
   "source": [
    "### if I wanted the 1th column instead of the ﬁrst row? Then we use : to select all items along the ﬁrst dimension, and then a 1:"
   ]
  },
  {
   "cell_type": "code",
   "execution_count": 18,
   "metadata": {
    "slideshow": {
     "slide_type": "fragment"
    }
   },
   "outputs": [
    {
     "data": {
      "text/plain": [
       "array([3, 5])"
      ]
     },
     "execution_count": 18,
     "metadata": {},
     "output_type": "execute_result"
    }
   ],
   "source": [
    "b[:, 1]"
   ]
  },
  {
   "cell_type": "markdown",
   "metadata": {
    "slideshow": {
     "slide_type": "slide"
    }
   },
   "source": [
    "# 5-3 Masking\n",
    "\n",
    "### This is perhaps the single most powerful feature of Numpy.\n",
    "### Suppose we have an array, and we want to throw away all values above a certain cutoff:"
   ]
  },
  {
   "cell_type": "code",
   "execution_count": 19,
   "metadata": {
    "slideshow": {
     "slide_type": "fragment"
    }
   },
   "outputs": [
    {
     "data": {
      "text/plain": [
       "array([ True, False,  True, False, False])"
      ]
     },
     "execution_count": 19,
     "metadata": {},
     "output_type": "execute_result"
    }
   ],
   "source": [
    "a = np.array([230, 10, 284, 39, 76])\n",
    "cutoff = 200\n",
    "a > cutoff"
   ]
  },
  {
   "cell_type": "markdown",
   "metadata": {
    "slideshow": {
     "slide_type": "fragment"
    }
   },
   "source": [
    "### Now we set all the values above 200 to zero:"
   ]
  },
  {
   "cell_type": "code",
   "execution_count": 20,
   "metadata": {
    "slideshow": {
     "slide_type": "fragment"
    }
   },
   "outputs": [
    {
     "data": {
      "text/plain": [
       "array([ 0, 10,  0, 39, 76])"
      ]
     },
     "execution_count": 20,
     "metadata": {},
     "output_type": "execute_result"
    }
   ],
   "source": [
    "a = np.array([230, 10, 284, 39, 76])\n",
    "cutoff = 200\n",
    "a[a > cutoff] = 0\n",
    "a"
   ]
  },
  {
   "cell_type": "markdown",
   "metadata": {
    "slideshow": {
     "slide_type": "slide"
    }
   },
   "source": [
    "### The crucial line is a[a > cutoff] = 0. \n",
    "### This selects all the points in the array where the test was positive and assigns 0 to that position.\n",
    "### Without knowing this trick we would have had to loop over the array:"
   ]
  },
  {
   "cell_type": "code",
   "execution_count": 22,
   "metadata": {
    "slideshow": {
     "slide_type": "fragment"
    }
   },
   "outputs": [
    {
     "data": {
      "text/plain": [
       "array([ 0, 10,  0, 39, 76])"
      ]
     },
     "execution_count": 22,
     "metadata": {},
     "output_type": "execute_result"
    }
   ],
   "source": [
    "a = np.array([230, 10, 284, 39, 76])\n",
    "cutoff = 200\n",
    "new_a = []\n",
    "for x in a:\n",
    "    if x > cutoff:\n",
    "        new_a.append(0)\n",
    "    else:\n",
    "        new_a.append(x)\n",
    "a = np.array(new_a)\n",
    "a"
   ]
  },
  {
   "cell_type": "markdown",
   "metadata": {
    "slideshow": {
     "slide_type": "slide"
    }
   },
   "source": [
    "# 5-4 Broadcasting\n",
    "\n",
    "### Broadcasting takes place when you perform operations between arrays of different shapes."
   ]
  },
  {
   "cell_type": "code",
   "execution_count": 23,
   "metadata": {
    "slideshow": {
     "slide_type": "fragment"
    }
   },
   "outputs": [
    {
     "data": {
      "text/plain": [
       "array([[  0, 100],\n",
       "       [ 20, 300],\n",
       "       [ 40, 500]])"
      ]
     },
     "execution_count": 23,
     "metadata": {},
     "output_type": "execute_result"
    }
   ],
   "source": [
    "a = np.array([\n",
    "[0, 1],\n",
    "[2, 3],\n",
    "[4, 5],\n",
    "])\n",
    "b = np.array([10, 100])\n",
    "a * b"
   ]
  },
  {
   "cell_type": "markdown",
   "metadata": {
    "slideshow": {
     "slide_type": "fragment"
    }
   },
   "source": [
    "### The shapes of a and b don’t match.\n",
    "###  Numpy will stretch b into a second dimension, as if it were stacked three times upon itself.\n",
    "### The operation then takes place element-wise.\n",
    "### One of the rules of broadcasting is that only dimensions of size 1 can be stretched.\n",
    "###  b is 1D, and has shape (2,).  Numpy adds another dimension of size 1 to b. b now has shape (1, 2). \n",
    "###  This new dimension can now be stretched three times so that b’s shape matches a’s shape of (3, 2)."
   ]
  },
  {
   "cell_type": "code",
   "execution_count": 24,
   "metadata": {
    "slideshow": {
     "slide_type": "slide"
    }
   },
   "outputs": [
    {
     "ename": "ValueError",
     "evalue": "operands could not be broadcast together with shapes (2,3) (2,) ",
     "output_type": "error",
     "traceback": [
      "\u001b[1;31m---------------------------------------------------------------------------\u001b[0m",
      "\u001b[1;31mValueError\u001b[0m                                Traceback (most recent call last)",
      "\u001b[1;32m<ipython-input-24-ca5aa445acc2>\u001b[0m in \u001b[0;36m<module>\u001b[1;34m()\u001b[0m\n\u001b[0;32m      4\u001b[0m ])\n\u001b[0;32m      5\u001b[0m \u001b[0mb\u001b[0m \u001b[1;33m=\u001b[0m \u001b[0mnp\u001b[0m\u001b[1;33m.\u001b[0m\u001b[0marray\u001b[0m\u001b[1;33m(\u001b[0m\u001b[1;33m[\u001b[0m\u001b[1;36m10\u001b[0m\u001b[1;33m,\u001b[0m \u001b[1;36m100\u001b[0m\u001b[1;33m]\u001b[0m\u001b[1;33m)\u001b[0m\u001b[1;33m\u001b[0m\u001b[0m\n\u001b[1;32m----> 6\u001b[1;33m \u001b[0mc\u001b[0m \u001b[1;33m*\u001b[0m \u001b[0mb\u001b[0m\u001b[1;33m\u001b[0m\u001b[0m\n\u001b[0m",
      "\u001b[1;31mValueError\u001b[0m: operands could not be broadcast together with shapes (2,3) (2,) "
     ]
    }
   ],
   "source": [
    "c = np.array([\n",
    "[0, 1, 2],\n",
    "[3, 4, 5],\n",
    "])\n",
    "b = np.array([10, 100])\n",
    "c * b"
   ]
  },
  {
   "cell_type": "markdown",
   "metadata": {
    "slideshow": {
     "slide_type": "fragment"
    }
   },
   "source": [
    "### Numpy, again, adds a dimension to b, making it of shape (1, 2). The sizes of the last dimensions of b and c (2 and 3, respectively) are then compared and found to differ."
   ]
  },
  {
   "cell_type": "markdown",
   "metadata": {
    "slideshow": {
     "slide_type": "slide"
    }
   },
   "source": [
    "### The solution to multiplying c and b above is to speciﬁcally tell Numpy that it must add that extra dimension as the second dimension of b.\n",
    "### This is done by using None to index that second dimension. \n",
    "### The shape of b then becomes (2,1), which is compatible for broadcasting with c"
   ]
  },
  {
   "cell_type": "code",
   "execution_count": 25,
   "metadata": {
    "slideshow": {
     "slide_type": "fragment"
    }
   },
   "outputs": [
    {
     "data": {
      "text/plain": [
       "array([[  0,  10,  20],\n",
       "       [300, 400, 500]])"
      ]
     },
     "execution_count": 25,
     "metadata": {},
     "output_type": "execute_result"
    }
   ],
   "source": [
    "c = np.array([\n",
    "[0, 1, 2],\n",
    "[3, 4, 5],\n",
    "])\n",
    "b = np.array([10, 100])\n",
    "c * b[:, None]"
   ]
  },
  {
   "cell_type": "markdown",
   "metadata": {
    "slideshow": {
     "slide_type": "slide"
    }
   },
   "source": [
    "# 5-5 dtype\n",
    "\n",
    "### A commonly used term in working with numpy is dtype - short for data type.\n",
    "###  e.g. int8. This means the value is integer with a size of 8 bits.\n",
    "### Each bit is either 0 or 1. With 8 of them, we have 2^8 = 256 possible values. Since we also have to count zero itself, the largest possible value is 255. \n",
    "### The data type we have now described is called uint8, where the u stands for unsigned: only positive values are allowed.\n",
    "###  If we want to allow negative numbers we use int8. The range then shifts to -128 to +127.\n",
    "### If you know the elements of your array are never going to be bigger than 100, why waste all the memory space? \n",
    "### You might be better off setting your array to uint8 to conserve memory. "
   ]
  },
  {
   "cell_type": "code",
   "execution_count": 35,
   "metadata": {
    "slideshow": {
     "slide_type": "slide"
    }
   },
   "outputs": [
    {
     "data": {
      "text/plain": [
       "array([144], dtype=uint8)"
      ]
     },
     "execution_count": 35,
     "metadata": {},
     "output_type": "execute_result"
    }
   ],
   "source": [
    "import numpy as np\n",
    "a = np.array([200], dtype='uint8')\n",
    "a+a"
   ]
  },
  {
   "cell_type": "code",
   "execution_count": 27,
   "metadata": {
    "slideshow": {
     "slide_type": "fragment"
    }
   },
   "outputs": [
    {
     "data": {
      "text/plain": [
       "array([400], dtype=uint16)"
      ]
     },
     "execution_count": 27,
     "metadata": {},
     "output_type": "execute_result"
    }
   ],
   "source": [
    "import numpy as np\n",
    "a = np.array([200], dtype='uint16')\n",
    "a + a"
   ]
  },
  {
   "cell_type": "markdown",
   "metadata": {
    "slideshow": {
     "slide_type": "slide"
    }
   },
   "source": [
    "# 5-6 Changing dtype"
   ]
  },
  {
   "cell_type": "code",
   "execution_count": 36,
   "metadata": {
    "slideshow": {
     "slide_type": "fragment"
    }
   },
   "outputs": [
    {
     "data": {
      "text/plain": [
       "array([200], dtype=uint64)"
      ]
     },
     "execution_count": 36,
     "metadata": {},
     "output_type": "execute_result"
    }
   ],
   "source": [
    "import numpy as np\n",
    "a = np.array([200], dtype='uint8')\n",
    "a.astype('uint64')"
   ]
  },
  {
   "cell_type": "markdown",
   "metadata": {
    "slideshow": {
     "slide_type": "slide"
    }
   },
   "source": [
    "# 5-7 About Files\n",
    "\n",
    "### While a program is running, its data is stored in random access memory (RAM). RAM is fast and inexpensive, but it is also volatile, which means that when the program ends, or the computer shuts down, data in RAM disappears.\n",
    "### To make data available the next time the computer is turned on and the program is started, it has to be written to a non-volatile storage medium, such a hard drive, usb drive, or CD-RW.\n",
    "### Data on non-volatile storage media is stored in named locations called ﬁles. By reading and writing ﬁles, programs can save information between program runs.\n",
    "### Working with ﬁles is a lot like working with a notebook. To use a notebook, it has to be opened. When done, it has to be closed.\n",
    "### While the notebook is open, it can either be read from or written to."
   ]
  },
  {
   "cell_type": "markdown",
   "metadata": {
    "slideshow": {
     "slide_type": "slide"
    }
   },
   "source": [
    "# 5-8  Writing our ﬁrst ﬁle"
   ]
  },
  {
   "cell_type": "code",
   "execution_count": 37,
   "metadata": {
    "slideshow": {
     "slide_type": "fragment"
    }
   },
   "outputs": [],
   "source": [
    "with open(\"test.txt\", \"w\") as myfile:\n",
    "    myfile.write(\"My first file written from Python\\n\")\n",
    "    myfile.write(\"---------------------------------\\n\")\n",
    "    myfile.write(\"Hello, world!\\n\")"
   ]
  },
  {
   "cell_type": "markdown",
   "metadata": {
    "slideshow": {
     "slide_type": "fragment"
    }
   },
   "source": [
    "### Opening a ﬁle creates what we call a ﬁle handle.\n",
    "###  the variable myfile refers to the new handle object. \n",
    "### On line 1, the open function takes two arguments. The ﬁrst is the name of the ﬁle, and the second is the mode. Mode \"w\" means that we are opening the ﬁle for writing.\n",
    "### With mode \"w\", if there is no ﬁle named test.txt on the disk, it will be created. If there already is one, it will be replaced by the ﬁle we are writing.\n",
    "### To put data in the ﬁle we invoke the write method on the handle.\n",
    "### The ﬁle is closed after line 4, at the end of the with block. "
   ]
  },
  {
   "cell_type": "markdown",
   "metadata": {
    "slideshow": {
     "slide_type": "slide"
    }
   },
   "source": [
    "# 5-9 Reading a ﬁle line-at-a-time"
   ]
  },
  {
   "cell_type": "code",
   "execution_count": 38,
   "metadata": {
    "slideshow": {
     "slide_type": "fragment"
    }
   },
   "outputs": [
    {
     "name": "stdout",
     "output_type": "stream",
     "text": [
      "My first file written from Python\n",
      "---------------------------------\n",
      "Hello, world!\n"
     ]
    }
   ],
   "source": [
    "with open(\"test.txt\", \"r\") as my_new_handle:\n",
    "    for the_line in my_new_handle:\n",
    "        # Do something with the line we just read.\n",
    "        # Here we just print it.\n",
    "        print(the_line, end=\"\")"
   ]
  },
  {
   "cell_type": "markdown",
   "metadata": {
    "slideshow": {
     "slide_type": "fragment"
    }
   },
   "source": [
    "### we suppress the newline character that print usually appends to our strings with end=\"\".\n",
    "### This is because the string already has its own newline: the for statement in line 2 reads everything up to and including the newline character."
   ]
  },
  {
   "cell_type": "markdown",
   "metadata": {
    "slideshow": {
     "slide_type": "slide"
    }
   },
   "source": [
    "# 5-10 Turning a ﬁle into a list of lines"
   ]
  },
  {
   "cell_type": "markdown",
   "metadata": {
    "slideshow": {
     "slide_type": "fragment"
    }
   },
   "source": [
    "### It is often useful to fetch data from a disk ﬁle and turn it into a list of lines."
   ]
  },
  {
   "cell_type": "code",
   "execution_count": null,
   "metadata": {
    "slideshow": {
     "slide_type": "fragment"
    }
   },
   "outputs": [],
   "source": [
    "with open(\"friends.txt\", \"r\") as input_file:\n",
    "    all_lines = input_file.readlines()\n",
    "all_lines.sort()\n",
    "\n",
    "with open(\"sortedfriends.txt\", \"w\") as output_file:\n",
    "    for line in all_lines:\n",
    "        outut_file.write(line)"
   ]
  },
  {
   "cell_type": "markdown",
   "metadata": {
    "slideshow": {
     "slide_type": "fragment"
    }
   },
   "source": [
    "### The readlines method in line 2 reads all the lines and returns a list of the strings."
   ]
  },
  {
   "cell_type": "markdown",
   "metadata": {
    "slideshow": {
     "slide_type": "slide"
    }
   },
   "source": [
    "# 5-11 Reading the whole ﬁle at once"
   ]
  },
  {
   "cell_type": "markdown",
   "metadata": {
    "slideshow": {
     "slide_type": "fragment"
    }
   },
   "source": [
    "### Another way of working with text ﬁles is to read the complete contents of the ﬁle into a string, and then to use our string-processing skills to work with the contents."
   ]
  },
  {
   "cell_type": "code",
   "execution_count": null,
   "metadata": {
    "slideshow": {
     "slide_type": "fragment"
    }
   },
   "outputs": [],
   "source": [
    "with open(\"somefile.txt\") as f:\n",
    "    content = f.read()\n",
    "words = content.split()\n",
    "print(\"There are {0} words in the file.\".format(len(words)))"
   ]
  },
  {
   "cell_type": "markdown",
   "metadata": {
    "slideshow": {
     "slide_type": "fragment"
    }
   },
   "source": [
    "### Notice here that we left out the \"r\" mode in line 1. By default, if we don’t supply the mode, Python opens the ﬁle for reading."
   ]
  },
  {
   "cell_type": "markdown",
   "metadata": {
    "slideshow": {
     "slide_type": "slide"
    }
   },
   "source": [
    "# 5-12 An example\n",
    "\n",
    "### Here is a ﬁlter that copies one ﬁle to another, omitting any lines that begin with #"
   ]
  },
  {
   "cell_type": "code",
   "execution_count": null,
   "metadata": {
    "slideshow": {
     "slide_type": "fragment"
    }
   },
   "outputs": [],
   "source": [
    "def filter(oldfile, newfile):\n",
    "    with open(oldfile, \"r\") as infile, open(newfile, \"w\") as outfile:\n",
    "        for line in infile:\n",
    "            # Put any processing logic here\n",
    "            if not line.startswith('#'):\n",
    "                outfile.write(line)"
   ]
  },
  {
   "cell_type": "markdown",
   "metadata": {
    "slideshow": {
     "slide_type": "slide"
    }
   },
   "source": [
    "# 5-13 Directories\n",
    "\n",
    "### Files on non-volatile storage media are organized by a set of rules known as a ﬁle system.\n",
    "###  File systems are made up of ﬁles and directories, which are containers for both ﬁles and other directories.\n",
    "### When we create a new ﬁle by opening it and writing, the new ﬁle goes in the current directory (wherever we were when we ran the program).\n",
    "### If we want to open a ﬁle somewhere else, we have to specify the path to the ﬁle, which is the name of the directory (or folder) where the ﬁle is located:"
   ]
  },
  {
   "cell_type": "code",
   "execution_count": null,
   "metadata": {
    "slideshow": {
     "slide_type": "fragment"
    }
   },
   "outputs": [],
   "source": [
    "wordsfile = open(\"c:/temp/words.txt\", \"r\") # using \"c:\\\\temp\\\\words.txt\"\n",
    "wordlist = wordsfile.readlines()\n",
    "print(wordlist[:6])"
   ]
  },
  {
   "cell_type": "markdown",
   "metadata": {
    "slideshow": {
     "slide_type": "slide"
    }
   },
   "source": [
    "# 5-14 Directories\n",
    "\n",
    "### here is a very simple example that copies the contents at some web URL to a local ﬁle."
   ]
  },
  {
   "cell_type": "code",
   "execution_count": 2,
   "metadata": {
    "slideshow": {
     "slide_type": "fragment"
    }
   },
   "outputs": [
    {
     "data": {
      "text/plain": [
       "('melab.pdf', <http.client.HTTPMessage at 0x18683894908>)"
      ]
     },
     "execution_count": 2,
     "metadata": {},
     "output_type": "execute_result"
    }
   ],
   "source": [
    "import urllib.request\n",
    "\n",
    "url = \"http://www.ece.ntust.edu.tw/et/research/chtseng20161121205825.pdf\"\n",
    "destination_filename = \"melab.pdf\"\n",
    "\n",
    "urllib.request.urlretrieve(url, destination_filename)"
   ]
  },
  {
   "cell_type": "markdown",
   "metadata": {
    "slideshow": {
     "slide_type": "fragment"
    }
   },
   "source": [
    "### The urlretrieve function — just one call — could be used to download any kind of content from the Internet.\n",
    "###  Read requests documentation on http://docs.python-requests.org to learn how to install and use the module."
   ]
  },
  {
   "cell_type": "markdown",
   "metadata": {
    "slideshow": {
     "slide_type": "slide"
    }
   },
   "source": [
    "### A module is a ﬁle containing Python deﬁnitions and statements intended for use in other Python programs.\n",
    "### There are many Python modules that come with Python as part of the standard library.\n",
    "### The help system contains a listing of all the standard modules that are available with Python."
   ]
  },
  {
   "cell_type": "markdown",
   "metadata": {
    "slideshow": {
     "slide_type": "slide"
    }
   },
   "source": [
    "# 5-15 Random numbers"
   ]
  },
  {
   "cell_type": "code",
   "execution_count": null,
   "metadata": {
    "slideshow": {
     "slide_type": "fragment"
    }
   },
   "outputs": [],
   "source": [
    "# Create a black box object that generates random numbers\n",
    "rng = random.Random()\n",
    "\n",
    "dice_throw = rng.randrange(1,7) # Return an int, one of 1,2,3,4,5,6\n",
    "delay_in_seconds = rng.random() * 5.0"
   ]
  },
  {
   "cell_type": "markdown",
   "metadata": {
    "slideshow": {
     "slide_type": "fragment"
    }
   },
   "source": [
    "### The randrange method call generates an integer between its lower and upper argument, using the same semantics as range.\n",
    "###  Like range, randrange can also take an optional step argument. So let’s assume we needed a random odd number less than 100, we could say:"
   ]
  },
  {
   "cell_type": "code",
   "execution_count": null,
   "metadata": {
    "slideshow": {
     "slide_type": "fragment"
    }
   },
   "outputs": [],
   "source": [
    "random_odd = rng.randrange(1, 100, 2)"
   ]
  },
  {
   "cell_type": "markdown",
   "metadata": {
    "slideshow": {
     "slide_type": "slide"
    }
   },
   "source": [
    "### The random method returns a ﬂoating point number in the interval [0.0, 1.0)\n",
    "### In other words, 0.0 is possible, but all returned numbers will be strictly less than 1.0.\n",
    "### It is usual to scale the results after calling this method, to get them into an interval suitable for your application."
   ]
  },
  {
   "cell_type": "markdown",
   "metadata": {
    "slideshow": {
     "slide_type": "fragment"
    }
   },
   "source": [
    "### This example shows how to shufﬂe a list."
   ]
  },
  {
   "cell_type": "code",
   "execution_count": null,
   "metadata": {
    "slideshow": {
     "slide_type": "fragment"
    }
   },
   "outputs": [],
   "source": [
    "cards = list(range(52)) # Generate ints [0 .. 51]\n",
    "# representing a pack of cards.\n",
    "rng.shuffle(cards) # Shuffle the pack"
   ]
  },
  {
   "cell_type": "markdown",
   "metadata": {
    "slideshow": {
     "slide_type": "slide"
    }
   },
   "source": [
    "## Repeatability and Testing\n",
    "### Random number generators are based on a deterministic algorithm — repeatable and predictable. \n",
    "### So they’re called pseudo-random generators — they are not genuinely random.\n",
    "### They start with a seed value. Each time you ask for another random number, you’ll get one based on the current seed attribute, and the state of the seed"
   ]
  },
  {
   "cell_type": "code",
   "execution_count": null,
   "metadata": {
    "slideshow": {
     "slide_type": "fragment"
    }
   },
   "outputs": [],
   "source": [
    "drng = random.Random(123) # Create generator with known starting state"
   ]
  },
  {
   "cell_type": "markdown",
   "metadata": {
    "slideshow": {
     "slide_type": "slide"
    }
   },
   "source": [
    "## Picking balls from bags, throwing dice, shufﬂing a pack of cards"
   ]
  },
  {
   "cell_type": "code",
   "execution_count": 1,
   "metadata": {
    "slideshow": {
     "slide_type": "fragment"
    }
   },
   "outputs": [],
   "source": [
    "import random\n",
    "\n",
    "def make_random_ints(num, lower_bound, upper_bound):\n",
    "    \"\"\"\n",
    "    Generate a list containing num random ints between lower_bound\n",
    "    and upper_bound. upper_bound is an open bound.\n",
    "    \"\"\"\n",
    "    rng = random.Random() # Create a random number generator\n",
    "    result = []\n",
    "    for i in range(num):\n",
    "        result.append(rng.randrange(lower_bound, upper_bound))\n",
    "    return result"
   ]
  },
  {
   "cell_type": "code",
   "execution_count": 3,
   "metadata": {
    "slideshow": {
     "slide_type": "fragment"
    }
   },
   "outputs": [
    {
     "data": {
      "text/plain": [
       "[11, 6, 7, 3, 7]"
      ]
     },
     "execution_count": 3,
     "metadata": {},
     "output_type": "execute_result"
    }
   ],
   "source": [
    "make_random_ints(5, 1, 13) # Pick 5 random month numbers"
   ]
  },
  {
   "cell_type": "markdown",
   "metadata": {
    "slideshow": {
     "slide_type": "slide"
    }
   },
   "source": [
    "### But what if you don’t want duplicates? If you wanted 5 distinct months, then this algorithm is wrong."
   ]
  },
  {
   "cell_type": "code",
   "execution_count": null,
   "metadata": {
    "slideshow": {
     "slide_type": "fragment"
    }
   },
   "outputs": [],
   "source": [
    "xs = list(range(1,13)) # Make list 1..12 (there are no duplicates)\n",
    "rng = random.Random() # Make a random number generator\n",
    "rng.shuffle(xs) # Shuffle the list\n",
    "result = xs[:5] # Take the first five elements"
   ]
  },
  {
   "cell_type": "markdown",
   "metadata": {
    "slideshow": {
     "slide_type": "slide"
    }
   },
   "source": [
    "### The second “shufﬂe and slice” algorithm would not be so great if you only wanted a few elements, but from a very large domain."
   ]
  },
  {
   "cell_type": "code",
   "execution_count": 4,
   "metadata": {
    "slideshow": {
     "slide_type": "fragment"
    }
   },
   "outputs": [
    {
     "name": "stdout",
     "output_type": "stream",
     "text": [
      "[1709143, 8285745, 3847147, 3838450, 2224993]\n"
     ]
    }
   ],
   "source": [
    "import random\n",
    "\n",
    "def make_random_ints_no_dups(num, lower_bound, upper_bound):\n",
    "    \"\"\"\n",
    "    Generate a list containing num random ints between\n",
    "    lower_bound and upper_bound. upper_bound is an open bound.\n",
    "    The result list cannot contain duplicates.\n",
    "    \"\"\"\n",
    "    result = []\n",
    "    rng = random.Random()\n",
    "    for i in range(num):\n",
    "        while True:\n",
    "            candidate = rng.randrange(lower_bound, upper_bound)\n",
    "            if candidate not in result:\n",
    "                break\n",
    "        result.append(candidate)\n",
    "    return result\n",
    "\n",
    "xs = make_random_ints_no_dups(5, 1, 10000000)\n",
    "print(xs)"
   ]
  },
  {
   "cell_type": "markdown",
   "metadata": {
    "slideshow": {
     "slide_type": "slide"
    }
   },
   "source": [
    "# 5-16 The time module\n",
    "\n",
    "### As we start to work with more sophisticated algorithms and bigger programs, a natural concern is “is our code efﬁcient?” \n",
    "### The time module has a function called clock that is recommended for this purpose.\n",
    "### The way to use it is to call clock and assign the result to a variable, say t0, just before you start executing the code you want to measure. Then after execution, call clock again, (this time we’ll save the result in variable t1). The difference t1-t0 is the time elapsed, and is a measure of how fast your program is running."
   ]
  },
  {
   "cell_type": "code",
   "execution_count": 5,
   "metadata": {
    "slideshow": {
     "slide_type": "slide"
    }
   },
   "outputs": [
    {
     "name": "stdout",
     "output_type": "stream",
     "text": [
      "my_result = 49999995000000 (time taken = 1.1581 seconds)\n",
      "their_result = 49999995000000 (time taken = 0.7761 seconds)\n"
     ]
    }
   ],
   "source": [
    "import time\n",
    "\n",
    "def do_my_sum(xs):\n",
    "    sum = 0\n",
    "    for v in xs:\n",
    "        sum += v\n",
    "    return sum\n",
    "\n",
    "sz = 10000000 # Lets have 10 million elements in the list\n",
    "testdata = range(sz)\n",
    "\n",
    "t0 = time.clock()\n",
    "my_result = do_my_sum(testdata)\n",
    "t1 = time.clock()\n",
    "print(\"my_result = {0} (time taken = {1:.4f} seconds)\".format(my_result, t1-t0))\n",
    "\n",
    "t2 = time.clock()\n",
    "their_result = sum(testdata)\n",
    "t3 = time.clock()\n",
    "print(\"their_result = {0} (time taken = {1:.4f} seconds)\".format(their_result, t3-t2))"
   ]
  },
  {
   "cell_type": "markdown",
   "metadata": {
    "slideshow": {
     "slide_type": "slide"
    }
   },
   "source": [
    "# 5-17 The math module\n",
    "\n",
    "### The math module contains the kinds of mathematical functions you’d typically ﬁnd on your calculator (sin, cos, sqrt, asin, log, log10) and some mathematical constants like pi and e:"
   ]
  },
  {
   "cell_type": "code",
   "execution_count": 6,
   "metadata": {
    "slideshow": {
     "slide_type": "fragment"
    }
   },
   "outputs": [],
   "source": [
    "import math"
   ]
  },
  {
   "cell_type": "code",
   "execution_count": 10,
   "metadata": {
    "slideshow": {
     "slide_type": "fragment"
    }
   },
   "outputs": [
    {
     "data": {
      "text/plain": [
       "3.141592653589793"
      ]
     },
     "execution_count": 10,
     "metadata": {},
     "output_type": "execute_result"
    }
   ],
   "source": [
    "math.pi # Constant pi"
   ]
  },
  {
   "cell_type": "code",
   "execution_count": 9,
   "metadata": {
    "slideshow": {
     "slide_type": "fragment"
    }
   },
   "outputs": [
    {
     "data": {
      "text/plain": [
       "2.718281828459045"
      ]
     },
     "execution_count": 9,
     "metadata": {},
     "output_type": "execute_result"
    }
   ],
   "source": [
    "math.e # Constant natural log base"
   ]
  },
  {
   "cell_type": "code",
   "execution_count": 11,
   "metadata": {
    "slideshow": {
     "slide_type": "slide"
    }
   },
   "outputs": [
    {
     "data": {
      "text/plain": [
       "1.4142135623730951"
      ]
     },
     "execution_count": 11,
     "metadata": {},
     "output_type": "execute_result"
    }
   ],
   "source": [
    "math.sqrt(2.0) # Square root function"
   ]
  },
  {
   "cell_type": "code",
   "execution_count": 12,
   "metadata": {
    "slideshow": {
     "slide_type": "fragment"
    }
   },
   "outputs": [
    {
     "data": {
      "text/plain": [
       "1.5707963267948966"
      ]
     },
     "execution_count": 12,
     "metadata": {},
     "output_type": "execute_result"
    }
   ],
   "source": [
    "math.radians(90) # Convert 90 degrees to radians"
   ]
  },
  {
   "cell_type": "code",
   "execution_count": 13,
   "metadata": {
    "slideshow": {
     "slide_type": "fragment"
    }
   },
   "outputs": [
    {
     "data": {
      "text/plain": [
       "1.0"
      ]
     },
     "execution_count": 13,
     "metadata": {},
     "output_type": "execute_result"
    }
   ],
   "source": [
    " math.sin(math.radians(90)) # Find sin of 90 degrees"
   ]
  },
  {
   "cell_type": "code",
   "execution_count": 14,
   "metadata": {
    "slideshow": {
     "slide_type": "fragment"
    }
   },
   "outputs": [
    {
     "data": {
      "text/plain": [
       "3.141592653589793"
      ]
     },
     "execution_count": 14,
     "metadata": {},
     "output_type": "execute_result"
    }
   ],
   "source": [
    " math.asin(1.0) * 2 # Double the arcsin of 1.0 to get pi"
   ]
  },
  {
   "cell_type": "markdown",
   "metadata": {
    "slideshow": {
     "slide_type": "slide"
    }
   },
   "source": [
    "### Like almost all other programming languages, angles are expressed in radians rather than degrees. \n",
    "### There are two functions radians and degrees to convert between these two popular ways of measuring angles.\n",
    "### Mathematical functions are “pure” and don’t have any state — calculating the square root of 2.0 doesn’t depend on any kind of state or history about what happened in the past. So the functions are not methods of an object — they are simply functions that are grouped together in a module called math."
   ]
  },
  {
   "cell_type": "markdown",
   "metadata": {
    "slideshow": {
     "slide_type": "slide"
    }
   },
   "source": [
    "# 5-18 Creating your own modules\n",
    "\n",
    "### All we need to do to create our own modules is to save our script as a ﬁle with a .py extension.\n",
    "### for example, this script is saved as a ﬁle named seqtools.py:"
   ]
  },
  {
   "cell_type": "code",
   "execution_count": null,
   "metadata": {
    "slideshow": {
     "slide_type": "fragment"
    }
   },
   "outputs": [],
   "source": [
    "def remove_at(pos, seq):\n",
    "    return seq[:pos] + seq[pos+1:]"
   ]
  },
  {
   "cell_type": "code",
   "execution_count": 16,
   "metadata": {
    "slideshow": {
     "slide_type": "fragment"
    }
   },
   "outputs": [
    {
     "data": {
      "text/plain": [
       "'A sting!'"
      ]
     },
     "execution_count": 16,
     "metadata": {},
     "output_type": "execute_result"
    }
   ],
   "source": [
    "import seqtools\n",
    "s = \"A string!\"\n",
    "seqtools.remove_at(4, s)"
   ]
  },
  {
   "cell_type": "markdown",
   "metadata": {
    "slideshow": {
     "slide_type": "slide"
    }
   },
   "source": [
    "### We do not include the .py ﬁle extension when importing. Python expects the ﬁle names of Python modules to end in .py, so the ﬁle extension is not included in the import statement.\n",
    "### The use of modules makes it possible to break up very large programs into manageable sized parts, and to keep related parts together."
   ]
  },
  {
   "cell_type": "markdown",
   "metadata": {
    "slideshow": {
     "slide_type": "slide"
    }
   },
   "source": [
    "# 5-19 Namespaces\n",
    "\n",
    "### A namespace is a collection of identiﬁers that belong to a module, or to a function.\n",
    "### Each module has its own namespace, so we can use the same identiﬁer name in multiple modules without causing an identiﬁcation problem."
   ]
  },
  {
   "cell_type": "code",
   "execution_count": null,
   "metadata": {
    "slideshow": {
     "slide_type": "fragment"
    }
   },
   "outputs": [],
   "source": [
    "# module1.py\n",
    "\n",
    "question = \"What is the meaning of Life, the Universe, and Everything?\"\n",
    "answer = 42"
   ]
  },
  {
   "cell_type": "code",
   "execution_count": null,
   "metadata": {
    "slideshow": {
     "slide_type": "fragment"
    }
   },
   "outputs": [],
   "source": [
    "# module2.py\n",
    "\n",
    "question = \"What is your quest?\"\n",
    "answer = \"To seek the holy grail.\""
   ]
  },
  {
   "cell_type": "code",
   "execution_count": 17,
   "metadata": {
    "slideshow": {
     "slide_type": "slide"
    }
   },
   "outputs": [
    {
     "name": "stdout",
     "output_type": "stream",
     "text": [
      "What is the meaning of Life, the Universe, and Everything?\n",
      "What is your quest?\n",
      "42\n",
      "To seek the holy grail.\n"
     ]
    }
   ],
   "source": [
    "import module1\n",
    "import module2\n",
    "\n",
    "print(module1.question)\n",
    "print(module2.question)\n",
    "print(module1.answer)\n",
    "print(module2.answer)"
   ]
  },
  {
   "cell_type": "markdown",
   "metadata": {
    "slideshow": {
     "slide_type": "slide"
    }
   },
   "source": [
    "### Functions also have their own namespaces:"
   ]
  },
  {
   "cell_type": "code",
   "execution_count": 18,
   "metadata": {
    "slideshow": {
     "slide_type": "fragment"
    }
   },
   "outputs": [
    {
     "name": "stdout",
     "output_type": "stream",
     "text": [
      "printing n before calling f: 11\n",
      "printing n inside of f: 7\n",
      "printing n after calling f: 11\n",
      "printing n inside of g: 42\n",
      "printing n after calling g: 11\n"
     ]
    }
   ],
   "source": [
    "def f():\n",
    "    n = 7\n",
    "    print(\"printing n inside of f:\", n)\n",
    "\n",
    "def g():\n",
    "    n = 42\n",
    "    print(\"printing n inside of g:\", n)\n",
    "\n",
    "n = 11\n",
    "print(\"printing n before calling f:\", n)\n",
    "f()\n",
    "print(\"printing n after calling f:\", n)\n",
    "g()\n",
    "print(\"printing n after calling g:\", n)"
   ]
  },
  {
   "cell_type": "markdown",
   "metadata": {
    "slideshow": {
     "slide_type": "slide"
    }
   },
   "source": [
    "### The three n’s here do not collide since they are each in a different namespace\n",
    "### Namespaces permit several programmers to work on the same project without having naming collisions."
   ]
  },
  {
   "cell_type": "markdown",
   "metadata": {
    "slideshow": {
     "slide_type": "slide"
    }
   },
   "source": [
    "### How are namespaces, ﬁles and modules related?\n",
    "\n",
    "### Python has a convenient and simplifying one-to-one mapping, one module per ﬁle, giving rise to one namespace. Also, Python takes the module name from the ﬁle name, and this becomes the name of the namespace.\n",
    "\n",
    "### Files and directories organize where things are stored in our computer. On the other hand, namespaces and modules are a programming concept: they help us organize how we want to group related functions and attributes.\n",
    "\n",
    "### So in Python, if you rename the ﬁle math.py, its module name also changes, your import statements would need to change, and your code that refers to functions or attributes inside that namespace would also need to change."
   ]
  },
  {
   "cell_type": "markdown",
   "metadata": {
    "slideshow": {
     "slide_type": "slide"
    }
   },
   "source": [
    "# 5-20 Scope and lookup rules\n",
    "\n",
    "### The scope of an identiﬁer is the region of program code in which the identiﬁer can be accessed, or used.\n",
    "### \"Local scope\" refers to identiﬁers declared within a function. These identiﬁers are kept in the namespace that belongs to the function, and each function has its own namespace.\n",
    "### \"Global scope\" refers to all the identiﬁers declared within the current module, or ﬁle.\n",
    "### \"Built-in scope\" refers to all the identiﬁers built into Python — those like range and min that can be used without having to import anything, and are (almost) always available."
   ]
  },
  {
   "cell_type": "code",
   "execution_count": 19,
   "metadata": {
    "slideshow": {
     "slide_type": "slide"
    }
   },
   "outputs": [
    {
     "name": "stdout",
     "output_type": "stream",
     "text": [
      "1230\n"
     ]
    }
   ],
   "source": [
    "def range(n):\n",
    "    return 123*n\n",
    "\n",
    "print(range(10))"
   ]
  },
  {
   "cell_type": "markdown",
   "metadata": {
    "slideshow": {
     "slide_type": "fragment"
    }
   },
   "source": [
    "### We’ve deﬁned our own function called range, so there is now a potential ambiguity. When we use range, do we mean our own one, or the built-in one? \n",
    "### Using the scope lookup rules determines this: our own range function, not the built-in one, is called, because our function range is in the global namespace, which takes precedence over the built-in names."
   ]
  },
  {
   "cell_type": "code",
   "execution_count": 20,
   "metadata": {
    "slideshow": {
     "slide_type": "slide"
    }
   },
   "outputs": [
    {
     "name": "stdout",
     "output_type": "stream",
     "text": [
      "17 10 3\n"
     ]
    }
   ],
   "source": [
    "n = 10\n",
    "m = 3\n",
    "def f(n):\n",
    "    m = 7\n",
    "    return 2*n+m\n",
    "\n",
    "print(f(5), n, m)"
   ]
  },
  {
   "cell_type": "markdown",
   "metadata": {
    "slideshow": {
     "slide_type": "fragment"
    }
   },
   "source": [
    "### two variables m and n in lines 1 and 2 are outside the function in the global namespace.\n",
    "### Inside the function, new variables called n and m are created just for the duration of the execution of f.\n",
    "### the def puts name f into the global namespace here. "
   ]
  },
  {
   "cell_type": "markdown",
   "metadata": {
    "slideshow": {
     "slide_type": "slide"
    }
   },
   "source": [
    "# 5-21 Attributes and the dot operator\n",
    "\n",
    "### Variables deﬁned inside a module are called attributes of the module.\n",
    "### Attributes are accessed using the dot operator (.).\n",
    "### The question attribute of module1 and module2 is accessed using module1.question and module2.question.\n",
    "### Modules contain functions as well as attributes, and the dot operator is used to access them in the same way. seqtools.remove_at refers to the remove_at function in the seqtools module."
   ]
  },
  {
   "cell_type": "markdown",
   "metadata": {
    "slideshow": {
     "slide_type": "slide"
    }
   },
   "source": [
    "# 5-22 Three import statement variants\n",
    "\n",
    "### Here are three different ways to import names into the current namespace, and to use them:"
   ]
  },
  {
   "cell_type": "code",
   "execution_count": null,
   "metadata": {
    "slideshow": {
     "slide_type": "fragment"
    }
   },
   "outputs": [],
   "source": [
    "import math\n",
    "2 x = math.sqrt(10)"
   ]
  },
  {
   "cell_type": "markdown",
   "metadata": {
    "slideshow": {
     "slide_type": "fragment"
    }
   },
   "source": [
    "### Here just the single identiﬁer math is added to the current namespace. If you want to access one of the functions in the module, you need to use the dot notation to get to it."
   ]
  },
  {
   "cell_type": "code",
   "execution_count": null,
   "metadata": {
    "slideshow": {
     "slide_type": "fragment"
    }
   },
   "outputs": [],
   "source": [
    "from math import cos, sin, sqrt\n",
    "2 x = sqrt(10)"
   ]
  },
  {
   "cell_type": "markdown",
   "metadata": {
    "slideshow": {
     "slide_type": "fragment"
    }
   },
   "source": [
    "### The names are added directly to the current namespace, and can be used without qualiﬁcation."
   ]
  },
  {
   "cell_type": "code",
   "execution_count": null,
   "metadata": {
    "slideshow": {
     "slide_type": "slide"
    }
   },
   "outputs": [],
   "source": [
    "from math import * # Import all the identifiers from math,\n",
    "# adding them to the current namespace.\n",
    "x = sqrt(10) # Use them without qualification."
   ]
  },
  {
   "cell_type": "markdown",
   "metadata": {
    "slideshow": {
     "slide_type": "fragment"
    }
   },
   "source": [
    "### Of these three, the ﬁrst method is generally preferred, even though it means a little more typing each time. Although, we can make things shorter by importing a module under a different name:"
   ]
  },
  {
   "cell_type": "code",
   "execution_count": 1,
   "metadata": {
    "slideshow": {
     "slide_type": "fragment"
    }
   },
   "outputs": [
    {
     "data": {
      "text/plain": [
       "3.141592653589793"
      ]
     },
     "execution_count": 1,
     "metadata": {},
     "output_type": "execute_result"
    }
   ],
   "source": [
    "import math as m\n",
    "m.pi"
   ]
  },
  {
   "cell_type": "code",
   "execution_count": 2,
   "metadata": {
    "slideshow": {
     "slide_type": "slide"
    }
   },
   "outputs": [
    {
     "ename": "NameError",
     "evalue": "name 'math' is not defined",
     "output_type": "error",
     "traceback": [
      "\u001b[1;31m---------------------------------------------------------------------------\u001b[0m",
      "\u001b[1;31mNameError\u001b[0m                                 Traceback (most recent call last)",
      "\u001b[1;32m<ipython-input-2-e8225b476cda>\u001b[0m in \u001b[0;36m<module>\u001b[1;34m()\u001b[0m\n\u001b[0;32m      3\u001b[0m     \u001b[1;32mreturn\u001b[0m \u001b[0mmath\u001b[0m\u001b[1;33m.\u001b[0m\u001b[0mpi\u001b[0m \u001b[1;33m*\u001b[0m \u001b[0mradius\u001b[0m \u001b[1;33m*\u001b[0m \u001b[0mradius\u001b[0m\u001b[1;33m\u001b[0m\u001b[0m\n\u001b[0;32m      4\u001b[0m \u001b[1;33m\u001b[0m\u001b[0m\n\u001b[1;32m----> 5\u001b[1;33m \u001b[0mx\u001b[0m \u001b[1;33m=\u001b[0m \u001b[0mmath\u001b[0m\u001b[1;33m.\u001b[0m\u001b[0msqrt\u001b[0m\u001b[1;33m(\u001b[0m\u001b[1;36m10\u001b[0m\u001b[1;33m)\u001b[0m \u001b[1;31m# This gives an error\u001b[0m\u001b[1;33m\u001b[0m\u001b[0m\n\u001b[0m",
      "\u001b[1;31mNameError\u001b[0m: name 'math' is not defined"
     ]
    }
   ],
   "source": [
    "def area(radius):\n",
    "    import math\n",
    "    return math.pi * radius * radius\n",
    "\n",
    "x = math.sqrt(10) # This gives an error"
   ]
  },
  {
   "cell_type": "markdown",
   "metadata": {
    "slideshow": {
     "slide_type": "fragment"
    }
   },
   "source": [
    "### Here we imported math, but we imported it into the local namespace of area."
   ]
  }
 ],
 "metadata": {
  "celltoolbar": "Slideshow",
  "kernelspec": {
   "display_name": "Python 3",
   "language": "python",
   "name": "python3"
  },
  "language_info": {
   "codemirror_mode": {
    "name": "ipython",
    "version": 3
   },
   "file_extension": ".py",
   "mimetype": "text/x-python",
   "name": "python",
   "nbconvert_exporter": "python",
   "pygments_lexer": "ipython3",
   "version": "3.7.1"
  }
 },
 "nbformat": 4,
 "nbformat_minor": 2
}
